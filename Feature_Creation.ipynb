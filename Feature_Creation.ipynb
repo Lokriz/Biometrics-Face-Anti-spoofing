{
 "cells": [
  {
   "cell_type": "code",
   "execution_count": 2,
   "id": "75034f86",
   "metadata": {},
   "outputs": [],
   "source": [
    "import pandas as pd\n",
    "import numpy as np"
   ]
  },
  {
   "cell_type": "code",
   "execution_count": 10,
   "id": "b0b5da93",
   "metadata": {},
   "outputs": [],
   "source": [
    "# Расстояние между точками\n",
    "def point_point(x1, y1, x2, y2):\n",
    "    return np.sqrt((x1 - x2) ** 2 + (y1 - y2) ** 2)\n",
    "\n",
    "# Периметр многоугольника\n",
    "def perim(x, y):\n",
    "    return np.sum(np.sqrt((x - np.roll(x, 1))**2 + (y - np.roll(y, 1))**2))\n",
    "\n",
    "# Расстояние между точкой и прямой\n",
    "def point_line(x39, y39, x42, y42, x30, y30):\n",
    "    p1 = np.array([x39,y39])\n",
    "    p2 = np.array([x42,y42])\n",
    "    p3 = np.array([x30,y30])\n",
    "    return np.linalg.norm(np.cross(p2-p1, p1-p3))/np.linalg.norm(p2-p1)\n",
    "\n",
    "# Площадь многоугольника\n",
    "def poly_area(x, y):\n",
    "    area = 0.5 * np.abs(np.dot(x, np.roll(y, 1)) - np.dot(y, np.roll(x, 1)))\n",
    "    return area\n",
    "\n",
    "# Пересчет расстояния в системе координат под новым углом (относительно прямой между двумя точками) \n",
    "def new_coord(x39, y39, x42, y42):\n",
    "    rads = np.arctan(np.linalg.solve(np.array([[1, x39], [1, x42]]), np.array([y39, y42]))[1])\n",
    "    return np.cos(rads)"
   ]
  },
  {
   "cell_type": "code",
   "execution_count": 11,
   "id": "0ecc989e",
   "metadata": {},
   "outputs": [],
   "source": [
    "folders = ['Ilya', 'Ilya2', 'Ilya3', 'Ilya4', 'Barbara', 'Barbara2', 'Barbara3', 'Dmitry', 'Liza', 'Masha', 'Ilyas'\\\n",
    "          , 'Ilyas2', 'Ilyas3', 'Ilyas4', 'Ilyas5', 'Ilyas6', 'Ilyas7', 'Ilyas8', 'Ilyas9', 'Ilyas10']\n",
    "files = ['a_0', 'a_30(1)', 'a_30(2)', 'b_0', 'b_30(1)', 'b_30(2)']"
   ]
  },
  {
   "cell_type": "code",
   "execution_count": 13,
   "id": "1b89d892",
   "metadata": {},
   "outputs": [],
   "source": [
    "result = pd.DataFrame()\n",
    "\n",
    "for folder in folders:\n",
    "    folder_result = pd.DataFrame()\n",
    "    for file in files:\n",
    "        df = pd.read_csv(filepath_or_buffer = 'C:/Users/lokri/PycharmProjects/Pract/'+folder+'/'+file+'.csv', sep= ',', index_col= 0)\n",
    "\n",
    "        # Вычисление нормировочных множителей (для вертикали и горизонтали)\n",
    "        norm_vert = df.iloc[:, 0:6].apply(lambda x: point_line(x.x39, x.y39, x.x42, x.y42, x.x30, x.y30), axis = 1)\n",
    "        norm_hor = point_point(df.x39, df.y39, df.x42, df.y42)\n",
    "        \n",
    "        coordinate_correction = df.iloc[:, 0:4].apply(lambda x: new_coord(x.x39, x.y39, x.x42, x.y42), axis = 1)\n",
    "\n",
    "        # Формирование нового датафрейма значениями нормированных расстояний (их проекций на две оси) между каждой из точек контура губ\n",
    "        columns = [j[1:] for j in list(df.columns[6:-2:2])]\n",
    "        df_new = pd.DataFrame()\n",
    "        for i in range(len(columns)):\n",
    "            for j in range(i+1, len(columns)):\n",
    "                df_new['x' + columns[i] + '_' + columns[j]] = np.abs(df['x' + columns[i]] - df['x' + columns[j]])*coordinate_correction/norm_hor\n",
    "                df_new['y' + columns[i] + '_' + columns[j]] = np.abs(df['y' + columns[i]] - df['y' + columns[j]])*coordinate_correction/norm_vert\n",
    "\n",
    "        # Вычисление нормированных значений периметра контура губ\n",
    "        df_new['perimeter'] = df.iloc[:, 6:-2].apply(lambda x: perim(np.array(x[0::2]), np.array(x[1::2])), axis = 1)/norm_hor\n",
    "\n",
    "        # Вычисление нормированных значений площади, ограниченной контуром губ\n",
    "        df_new['square'] = df.iloc[:, 6:-2].apply(lambda x: poly_area(np.array(x[0::2]), np.array(x[1::2])), axis = 1)/(norm_vert*norm_hor)\n",
    "\n",
    "        df_new['target'] = df.target\n",
    "\n",
    "        dummy_df = df_new.groupby('target').agg(['mean', 'std']).reset_index()\n",
    "        dummy_df.columns = ['_'.join(col) for col in dummy_df.columns.values]\n",
    "        dummy_df.insert(0, 'angle_type', file)\n",
    "        folder_result = pd.concat([folder_result,dummy_df])\n",
    "        \n",
    "    folder_result.to_csv(path_or_buf='C:/Users/lokri/PycharmProjects/Pract/'+folder+'/'+folder+'_full.csv', index = False)\n",
    "    folder_result.insert(0, 'person', folder)\n",
    "    result = pd.concat([result,folder_result])\n",
    "    \n",
    "result['target_'] = pd.Categorical(result['target_'], ['zero', 'one', 'two', 'three', 'four', 'five', 'six', 'seven', 'eight', 'nine', 'not_num'])\n",
    "result = result.sort_values(by = ['person', 'angle_type', 'target_'])\n",
    "\n",
    "result.to_csv(path_or_buf='C:/Users/lokri/PycharmProjects/Pract/full_DB.csv', index = False)"
   ]
  }
 ],
 "metadata": {
  "kernelspec": {
   "display_name": "Python 3 (ipykernel)",
   "language": "python",
   "name": "python3"
  },
  "language_info": {
   "codemirror_mode": {
    "name": "ipython",
    "version": 3
   },
   "file_extension": ".py",
   "mimetype": "text/x-python",
   "name": "python",
   "nbconvert_exporter": "python",
   "pygments_lexer": "ipython3",
   "version": "3.8.8"
  }
 },
 "nbformat": 4,
 "nbformat_minor": 5
}
