{
 "cells": [
  {
   "cell_type": "code",
   "execution_count": 4,
   "id": "37cfe132",
   "metadata": {},
   "outputs": [],
   "source": [
    "import pandas as pd\n",
    "import numpy as np\n",
    "import matplotlib.pyplot as plt\n",
    "import seaborn as sns\n",
    "from sklearn.ensemble import RandomForestClassifier\n",
    "from sklearn.model_selection import train_test_split\n",
    "from sklearn import metrics\n",
    "from sklearn.model_selection import cross_val_score, StratifiedKFold\n",
    "import warnings\n",
    "\n",
    "warnings.filterwarnings(\"ignore\")\n",
    "sns.set(style=\"darkgrid\")"
   ]
  },
  {
   "cell_type": "code",
   "execution_count": 7,
   "id": "2e8adcf9",
   "metadata": {},
   "outputs": [],
   "source": [
    "data = pd.read_csv(filepath_or_buffer = 'C:/Users/lokri/PycharmProjects/Pract/final_data.csv', sep= ',')\n",
    "\n",
    "# Формирование датасетов для модели машинного обучение\n",
    "np.random.seed(42)\n",
    "X, y = data.iloc[:,4:], data.iloc[:,3]\n",
    "\n",
    "# Инициализация валидации\n",
    "skf = StratifiedKFold(n_splits=5, shuffle=True, random_state=42)"
   ]
  },
  {
   "cell_type": "code",
   "execution_count": 8,
   "id": "cb0d94df",
   "metadata": {},
   "outputs": [
    {
     "name": "stdout",
     "output_type": "stream",
     "text": [
      "Best accuracy on CV is 37.40% with 50 trees\n"
     ]
    }
   ],
   "source": [
    "# Создание списков для сохранения точности на тренировочном и тестовом датасете\n",
    "train_acc = []\n",
    "test_acc = []\n",
    "temp_train_acc = []\n",
    "temp_test_acc = []\n",
    "trees_grid = [5, 10, 15, 20, 30, 50, 75]\n",
    "\n",
    "# Обучение на тренировочном датасете\n",
    "for ntrees in trees_grid:\n",
    "    rfc = RandomForestClassifier(n_estimators=ntrees, random_state=42,\\\n",
    "n_jobs=-1, oob_score=True)\n",
    "    temp_train_acc = []\n",
    "    temp_test_acc = []\n",
    "    for train_index, test_index in skf.split(X, y):\n",
    "        X_train, X_test = X.iloc[train_index], X.iloc[test_index]\n",
    "        y_train, y_test = y[train_index], y[test_index]\n",
    "        rfc.fit(X_train, y_train)\n",
    "        temp_train_acc.append(rfc.score(X_train, y_train))\n",
    "        temp_test_acc.append(rfc.score(X_test, y_test))\n",
    "    train_acc.append(temp_train_acc)\n",
    "    test_acc.append(temp_test_acc)\n",
    "\n",
    "train_acc, test_acc = np.asarray(train_acc), np.asarray(test_acc)\n",
    "print(\"Best accuracy on CV is {:.2f}% with {}\\\n",
    " trees\".format(max(test_acc.mean(axis=1))*100, trees_grid[np.argmax(test_acc.mean(axis=1))]))"
   ]
  },
  {
   "cell_type": "code",
   "execution_count": 9,
   "id": "4d607c1d",
   "metadata": {},
   "outputs": [
    {
     "data": {
      "text/plain": [
       "Text(0.5, 0, 'Параметр N_estimators')"
      ]
     },
     "execution_count": 9,
     "metadata": {},
     "output_type": "execute_result"
    },
    {
     "data": {
      "image/png": "[encoded data removed]",
      "text/plain": [
       "<Figure size 864x432 with 1 Axes>"
      ]
     },
     "metadata": {},
     "output_type": "display_data"
    }
   ],
   "source": [
    "# Построение графика доли правильных ответов от варьируемого параметра\n",
    "fig, ax = plt.subplots(figsize=(12, 6))\n",
    "ax.plot(trees_grid, train_acc.mean(axis=1), linewidth = 2, color='blue', label='Обучающая')\n",
    "ax.plot(trees_grid, test_acc.mean(axis=1), color='red', label='Валидационная')\n",
    "ax.legend(loc='best')\n",
    "ax.set_ylim([0.2,1.15])\n",
    "ax.set_ylabel(\"Доля правильных ответов\")\n",
    "ax.set_xlabel(\"Параметр N_estimators\")"
   ]
  },
  {
   "cell_type": "code",
   "execution_count": 10,
   "id": "92d9933b",
   "metadata": {},
   "outputs": [
    {
     "name": "stdout",
     "output_type": "stream",
     "text": [
      "              precision    recall  f1-score   support\n",
      "\n",
      "       eight       0.40      0.43      0.41        14\n",
      "        five       0.22      0.14      0.17        14\n",
      "        four       0.27      0.23      0.25        13\n",
      "        nine       0.32      0.50      0.39        14\n",
      "     not_num       0.93      1.00      0.97        14\n",
      "         one       0.35      0.60      0.44        15\n",
      "       seven       0.20      0.14      0.17        14\n",
      "         six       0.42      0.33      0.37        15\n",
      "       three       0.12      0.07      0.09        15\n",
      "         two       0.30      0.21      0.25        14\n",
      "        zero       0.62      0.83      0.71        12\n",
      "\n",
      "    accuracy                           0.40       154\n",
      "   macro avg       0.38      0.41      0.38       154\n",
      "weighted avg       0.37      0.40      0.38       154\n",
      "\n"
     ]
    }
   ],
   "source": [
    "# Использование подобранных параметров для обучения и проверка качества классификации\n",
    "rfc = RandomForestClassifier(n_estimators=75, random_state=47, n_jobs=-1,\\\n",
    "oob_score=True, min_samples_leaf=3, max_depth = 9)\n",
    "rfc.fit(X_train, y_train)\n",
    "y_pred = rfc.predict(X_test)\n",
    "print(metrics.classification_report(y_test, y_pred))"
   ]
  }
 ],
 "metadata": {
  "kernelspec": {
   "display_name": "Python 3 (ipykernel)",
   "language": "python",
   "name": "python3"
  },
  "language_info": {
   "codemirror_mode": {
    "name": "ipython",
    "version": 3
   },
   "file_extension": ".py",
   "mimetype": "text/x-python",
   "name": "python",
   "nbconvert_exporter": "python",
   "pygments_lexer": "ipython3",
   "version": "3.8.8"
  }
 },
 "nbformat": 4,
 "nbformat_minor": 5
}
